{
 "cells": [
  {
   "cell_type": "code",
   "execution_count": 13,
   "id": "4770d4a5-4b8b-45ac-afc2-8333b672e161",
   "metadata": {},
   "outputs": [],
   "source": [
    "import pandas as pd\n",
    "from scipy import stats\n",
    "import matplotlib.pyplot as plt\n",
    "from os.path import join\n",
    "from pathlib import Path"
   ]
  },
  {
   "cell_type": "markdown",
   "id": "e092ed32-18ac-4978-821a-2b6474612aba",
   "metadata": {},
   "source": [
    "## 1. Compare between 2 lists (populations)\n",
    "### Each list has 34 numbers (each number represents the mean amount of variant counts per gene, across all genomes)\n"
   ]
  },
  {
   "cell_type": "code",
   "execution_count": 14,
   "id": "880fa504-a82c-491d-8303-e96a34fe376c",
   "metadata": {},
   "outputs": [],
   "source": [
    "root_dir = join(Path.home(),\"cp_als\")"
   ]
  },
  {
   "cell_type": "code",
   "execution_count": 15,
   "id": "c127678d-80ab-4070-ae54-b81da8940b20",
   "metadata": {},
   "outputs": [],
   "source": [
    "def mean_variant_count(infile,genome_ids):\n",
    "    df=pd.read_csv(infile)\n",
    "    df = df[[\"gene\"]+ genome_ids ]\n",
    "    g_df = df.groupby([\"gene\"]).sum().sum(axis=1)\n",
    "    g_df = g_df /len(genome_ids)\n",
    "    rdf= pd.DataFrame()\n",
    "    rdf['mean']= g_df / len(genome_ids)\n",
    "    rdf.head()\n",
    "    return rdf"
   ]
  },
  {
   "cell_type": "code",
   "execution_count": 16,
   "id": "68e389a2-2e21-4afe-8f44-67667fd121d7",
   "metadata": {},
   "outputs": [],
   "source": [
    "khv_genome_ids = ['HG02069', 'HG01846', 'HG02078', 'HG01851', 'HG01865', 'HG01862', 'HG02137', 'HG02050', 'HG02019', 'HG02029', 'HG02522', 'HG01850', 'HG02072', 'HG02139', 'HG02058', 'HG02081', 'HG01858', 'HG01867', 'HG02032', 'HG02122', 'HG01860', 'HG02016', 'HG01869', 'HG02061', 'HG02084', 'HG01852', 'HG02026', 'HG02521', 'HG01848', 'HG02130', 'HG02140', 'HG02113', 'HG02075', 'HG01598', 'HG02047', 'HG02121', 'HG01599', 'HG02136', 'HG01863', 'HG01874', 'HG02138', 'HG02025', 'HG01844', 'HG01845', 'HG02049', 'HG01870', 'HG02133', 'HG02088', 'HG02028', 'HG02076', 'HG01842', 'HG02023', 'HG02142', 'HG02035', 'HG02085', 'HG02086', 'HG02513', 'HG01873', 'HG02134', 'HG01871', 'HG01600', 'HG01868', 'HG02060', 'HG01878', 'HG02020', 'HG02127', 'HG01864', 'HG01595', 'HG02048', 'HG01847', 'HG01859', 'HG01861', 'HG01849', 'HG01843', 'HG02031', 'HG02512', 'HG01857', 'HG01853', 'HG02082', 'HG02073', 'HG02128', 'HG01855', 'HG02064', 'HG02040', 'HG02087', 'HG01597', 'HG02079', 'HG01872', 'HG02070', 'HG02131', 'HG02017', 'HG01866', 'HG02116', 'HG01840', 'HG01841', 'HG01596', 'HG02141', 'HG02067', 'HG02057']"
   ]
  },
  {
   "cell_type": "code",
   "execution_count": 17,
   "id": "11e8619e-8b20-425d-a0c7-a92f6e158492",
   "metadata": {},
   "outputs": [
    {
     "data": {
      "text/html": [
       "<div>\n",
       "<style scoped>\n",
       "    .dataframe tbody tr th:only-of-type {\n",
       "        vertical-align: middle;\n",
       "    }\n",
       "\n",
       "    .dataframe tbody tr th {\n",
       "        vertical-align: top;\n",
       "    }\n",
       "\n",
       "    .dataframe thead th {\n",
       "        text-align: right;\n",
       "    }\n",
       "</style>\n",
       "<table border=\"1\" class=\"dataframe\">\n",
       "  <thead>\n",
       "    <tr style=\"text-align: right;\">\n",
       "      <th></th>\n",
       "      <th>mean</th>\n",
       "    </tr>\n",
       "    <tr>\n",
       "      <th>gene</th>\n",
       "      <th></th>\n",
       "    </tr>\n",
       "  </thead>\n",
       "  <tbody>\n",
       "    <tr>\n",
       "      <th>ALS2</th>\n",
       "      <td>0.152535</td>\n",
       "    </tr>\n",
       "    <tr>\n",
       "      <th>ANG</th>\n",
       "      <td>0.021324</td>\n",
       "    </tr>\n",
       "    <tr>\n",
       "      <th>ATXN2</th>\n",
       "      <td>0.060198</td>\n",
       "    </tr>\n",
       "    <tr>\n",
       "      <th>C19ORF12</th>\n",
       "      <td>0.088971</td>\n",
       "    </tr>\n",
       "    <tr>\n",
       "      <th>C9ORF72</th>\n",
       "      <td>0.161412</td>\n",
       "    </tr>\n",
       "  </tbody>\n",
       "</table>\n",
       "</div>"
      ],
      "text/plain": [
       "              mean\n",
       "gene              \n",
       "ALS2      0.152535\n",
       "ANG       0.021324\n",
       "ATXN2     0.060198\n",
       "C19ORF12  0.088971\n",
       "C9ORF72   0.161412"
      ]
     },
     "execution_count": 17,
     "metadata": {},
     "output_type": "execute_result"
    }
   ],
   "source": [
    "khv_infile = join(root_dir,\"populations/output/KHV/all.csv\")\n",
    "khv = mean_variant_count(infile = khv_infile,genome_ids = khv_genome_ids)\n",
    "khv.head()"
   ]
  },
  {
   "cell_type": "code",
   "execution_count": 18,
   "id": "330c4aaa-9a6d-414a-bdeb-efa5c7884dc2",
   "metadata": {},
   "outputs": [],
   "source": [
    "jpt_genome_ids = ['NA18999', 'NA18960', 'NA18976', 'NA19081', 'NA18987', 'NA18985', 'NA19077', 'NA19006', 'NA18948', 'NA19009', 'NA18959', 'NA19060', 'NA19091', 'NA18965', 'NA19059', 'NA19003', 'NA19000', 'NA18941', 'NA19076', 'NA19080', 'NA18994', 'NA18973', 'NA18974', 'NA18961', 'NA19063', 'NA18979', 'NA18947', 'NA19087', 'NA18981', 'NA19064', 'NA18945', 'NA19082', 'NA19070', 'NA18972', 'NA18949', 'NA18975', 'NA18989', 'NA18967', 'NA19083', 'NA18997', 'NA18966', 'NA19090', 'NA18983', 'NA18952', 'NA19062', 'NA19012', 'NA18955', 'NA18940', 'NA19004', 'NA18970', 'NA18946', 'NA18971', 'NA18988', 'NA18977', 'NA18980', 'NA18939', 'NA19088', 'NA18957', 'NA19065', 'NA19078', 'NA19074', 'NA18968', 'NA18982', 'NA19011', 'NA18995', 'NA19054', 'NA18990', 'NA18978', 'NA18943', 'NA19066', 'NA18953', 'NA19056', 'NA18962', 'NA19072', 'NA19068', 'NA18964', 'NA19067', 'NA18951', 'NA18992', 'NA19057', 'NA18963', 'NA19089', 'NA18984', 'NA18956', 'NA19002', 'NA18993', 'NA19055', 'NA18969', 'NA19005', 'NA19007', 'NA19010', 'NA19079', 'NA18991', 'NA18986', 'NA18942', 'NA19058', 'NA18944', 'NA19084', 'NA19075', 'NA18950', 'NA19086', 'NA19085', 'NA19001', 'NA18954', 'NA18998']"
   ]
  },
  {
   "cell_type": "code",
   "execution_count": 19,
   "id": "5e364562-5dab-4d91-ae52-03f2bc4800e3",
   "metadata": {},
   "outputs": [
    {
     "data": {
      "text/html": [
       "<div>\n",
       "<style scoped>\n",
       "    .dataframe tbody tr th:only-of-type {\n",
       "        vertical-align: middle;\n",
       "    }\n",
       "\n",
       "    .dataframe tbody tr th {\n",
       "        vertical-align: top;\n",
       "    }\n",
       "\n",
       "    .dataframe thead th {\n",
       "        text-align: right;\n",
       "    }\n",
       "</style>\n",
       "<table border=\"1\" class=\"dataframe\">\n",
       "  <thead>\n",
       "    <tr style=\"text-align: right;\">\n",
       "      <th></th>\n",
       "      <th>mean</th>\n",
       "    </tr>\n",
       "    <tr>\n",
       "      <th>gene</th>\n",
       "      <th></th>\n",
       "    </tr>\n",
       "  </thead>\n",
       "  <tbody>\n",
       "    <tr>\n",
       "      <th>ALS2</th>\n",
       "      <td>0.111655</td>\n",
       "    </tr>\n",
       "    <tr>\n",
       "      <th>ANG</th>\n",
       "      <td>0.028118</td>\n",
       "    </tr>\n",
       "    <tr>\n",
       "      <th>ATXN2</th>\n",
       "      <td>0.075556</td>\n",
       "    </tr>\n",
       "    <tr>\n",
       "      <th>C19ORF12</th>\n",
       "      <td>0.079728</td>\n",
       "    </tr>\n",
       "    <tr>\n",
       "      <th>C9ORF72</th>\n",
       "      <td>0.125533</td>\n",
       "    </tr>\n",
       "  </tbody>\n",
       "</table>\n",
       "</div>"
      ],
      "text/plain": [
       "              mean\n",
       "gene              \n",
       "ALS2      0.111655\n",
       "ANG       0.028118\n",
       "ATXN2     0.075556\n",
       "C19ORF12  0.079728\n",
       "C9ORF72   0.125533"
      ]
     },
     "execution_count": 19,
     "metadata": {},
     "output_type": "execute_result"
    }
   ],
   "source": [
    "jpt_infile = join(root_dir,\"populations/output/JPT/all.csv\")\n",
    "jpt = mean_variant_count(infile = jpt_infile,genome_ids = jpt_genome_ids)\n",
    "jpt.head()"
   ]
  },
  {
   "cell_type": "code",
   "execution_count": 27,
   "id": "b0d31bfb-8088-42aa-9685-93f62bc12c1d",
   "metadata": {},
   "outputs": [],
   "source": [
    "asw_genome_ids = ['NA20359', 'NA19713', 'NA20342', 'NA20289', 'NA19982', 'NA20281', 'NA19703', 'NA19711', 'NA20351', 'NA19712', 'NA20317', 'NA19818', 'NA19923', 'NA19921', 'NA20126', 'NA20357', 'NA20294', 'NA19819', 'NA20298', 'NA19917', 'NA20340', 'NA20314', 'NA19701', 'NA20346', 'NA19834', 'NA19908', 'NA20412', 'NA20282', 'NA19835', 'NA20356', 'NA20348', 'NA19707', 'NA19900', 'NA19984', 'NA20127', 'NA20339', 'NA19916', 'NA19904', 'NA19909', 'NA20287', 'NA20278', 'NA20332', 'NA20276', 'NA19920', 'NA19625', 'NA20334', 'NA20291', 'NA20299', 'NA19922', 'NA19901', 'NA20296', 'NA19914', 'NA19704', 'NA19700']"
   ]
  },
  {
   "cell_type": "code",
   "execution_count": 28,
   "id": "2c71b413-fa63-4aa8-9b42-c7539f83313f",
   "metadata": {},
   "outputs": [
    {
     "data": {
      "text/html": [
       "<div>\n",
       "<style scoped>\n",
       "    .dataframe tbody tr th:only-of-type {\n",
       "        vertical-align: middle;\n",
       "    }\n",
       "\n",
       "    .dataframe tbody tr th {\n",
       "        vertical-align: top;\n",
       "    }\n",
       "\n",
       "    .dataframe thead th {\n",
       "        text-align: right;\n",
       "    }\n",
       "</style>\n",
       "<table border=\"1\" class=\"dataframe\">\n",
       "  <thead>\n",
       "    <tr style=\"text-align: right;\">\n",
       "      <th></th>\n",
       "      <th>mean</th>\n",
       "    </tr>\n",
       "    <tr>\n",
       "      <th>gene</th>\n",
       "      <th></th>\n",
       "    </tr>\n",
       "  </thead>\n",
       "  <tbody>\n",
       "    <tr>\n",
       "      <th>ALS2</th>\n",
       "      <td>0.393004</td>\n",
       "    </tr>\n",
       "    <tr>\n",
       "      <th>ANG</th>\n",
       "      <td>0.123800</td>\n",
       "    </tr>\n",
       "    <tr>\n",
       "      <th>ATXN2</th>\n",
       "      <td>1.868999</td>\n",
       "    </tr>\n",
       "    <tr>\n",
       "      <th>C19ORF12</th>\n",
       "      <td>0.345336</td>\n",
       "    </tr>\n",
       "    <tr>\n",
       "      <th>C9ORF72</th>\n",
       "      <td>0.347394</td>\n",
       "    </tr>\n",
       "  </tbody>\n",
       "</table>\n",
       "</div>"
      ],
      "text/plain": [
       "              mean\n",
       "gene              \n",
       "ALS2      0.393004\n",
       "ANG       0.123800\n",
       "ATXN2     1.868999\n",
       "C19ORF12  0.345336\n",
       "C9ORF72   0.347394"
      ]
     },
     "execution_count": 28,
     "metadata": {},
     "output_type": "execute_result"
    }
   ],
   "source": [
    "asw_infile = join(root_dir,\"populations/output/ASW/all.csv\")\n",
    "asw = mean_variant_count(infile = asw_infile,genome_ids = asw_genome_ids)\n",
    "asw.head()"
   ]
  },
  {
   "cell_type": "code",
   "execution_count": 29,
   "id": "bc328f59-3a51-4eae-9e95-9e4fa18666f2",
   "metadata": {},
   "outputs": [],
   "source": [
    "fin_genome_ids = ['HG00349', 'HG00327', 'HG00266', 'HG00323', 'HG00368', 'HG00326', 'HG00270', 'HG00321', 'HG00337', 'HG00189', 'HG00272', 'HG00382', 'HG00364', 'HG00304', 'HG00339', 'HG00330', 'HG00355', 'HG00186', 'HG00308', 'HG00353', 'HG00285', 'HG00273', 'HG00371', 'HG00274', 'HG00375', 'HG00282', 'HG00346', 'HG00345', 'HG00325', 'HG00367', 'HG00183', 'HG00366', 'HG00358', 'HG00275', 'HG00177', 'HG00178', 'HG00338', 'HG00319', 'HG00311', 'HG00381', 'HG00334', 'HG00277', 'HG00369', 'HG00324', 'HG00267', 'HG00372', 'HG00342', 'HG00284', 'HG00190', 'HG00181', 'HG00356', 'HG00180', 'HG00176', 'HG00271', 'HG00362', 'HG00288', 'HG00384', 'HG00182', 'HG00376', 'HG00336', 'HG00350', 'HG00318', 'HG00188', 'HG00344', 'HG00315', 'HG00269', 'HG00335', 'HG00179', 'HG00377', 'HG00185', 'HG00359', 'HG00383', 'HG00380', 'HG00276', 'HG00268', 'HG00332', 'HG00278', 'HG00365', 'HG00281', 'HG00343', 'HG00351', 'HG00187', 'HG00373', 'HG00320', 'HG00310', 'HG00171', 'HG00313', 'HG00357', 'HG00361', 'HG00379', 'HG00378', 'HG00309', 'HG00328', 'HG00290', 'HG00331', 'HG00329', 'HG00174', 'HG00312', 'HG00306', 'HG00341', 'HG00360', 'HG00280', 'HG00173']"
   ]
  },
  {
   "cell_type": "code",
   "execution_count": 30,
   "id": "507d3c1d-0fbb-4f06-a40d-b8597e4ad166",
   "metadata": {},
   "outputs": [
    {
     "data": {
      "text/html": [
       "<div>\n",
       "<style scoped>\n",
       "    .dataframe tbody tr th:only-of-type {\n",
       "        vertical-align: middle;\n",
       "    }\n",
       "\n",
       "    .dataframe tbody tr th {\n",
       "        vertical-align: top;\n",
       "    }\n",
       "\n",
       "    .dataframe thead th {\n",
       "        text-align: right;\n",
       "    }\n",
       "</style>\n",
       "<table border=\"1\" class=\"dataframe\">\n",
       "  <thead>\n",
       "    <tr style=\"text-align: right;\">\n",
       "      <th></th>\n",
       "      <th>mean</th>\n",
       "    </tr>\n",
       "    <tr>\n",
       "      <th>gene</th>\n",
       "      <th></th>\n",
       "    </tr>\n",
       "  </thead>\n",
       "  <tbody>\n",
       "    <tr>\n",
       "      <th>ALS2</th>\n",
       "      <td>0.086436</td>\n",
       "    </tr>\n",
       "    <tr>\n",
       "      <th>ANG</th>\n",
       "      <td>0.047507</td>\n",
       "    </tr>\n",
       "    <tr>\n",
       "      <th>ATXN2</th>\n",
       "      <td>0.126591</td>\n",
       "    </tr>\n",
       "    <tr>\n",
       "      <th>C19ORF12</th>\n",
       "      <td>0.090206</td>\n",
       "    </tr>\n",
       "    <tr>\n",
       "      <th>C9ORF72</th>\n",
       "      <td>0.198982</td>\n",
       "    </tr>\n",
       "  </tbody>\n",
       "</table>\n",
       "</div>"
      ],
      "text/plain": [
       "              mean\n",
       "gene              \n",
       "ALS2      0.086436\n",
       "ANG       0.047507\n",
       "ATXN2     0.126591\n",
       "C19ORF12  0.090206\n",
       "C9ORF72   0.198982"
      ]
     },
     "execution_count": 30,
     "metadata": {},
     "output_type": "execute_result"
    }
   ],
   "source": [
    "fin_infile = join(root_dir,\"populations/output/FIN/all.csv\")\n",
    "fin = mean_variant_count(infile = fin_infile,genome_ids = fin_genome_ids)\n",
    "fin.head()"
   ]
  },
  {
   "cell_type": "markdown",
   "id": "d57add12-2a24-4031-a43a-b921e2e8ce6d",
   "metadata": {},
   "source": [
    "## T-test on Vietnamese (KHV) and Japanese (JPT) populations"
   ]
  },
  {
   "cell_type": "code",
   "execution_count": 22,
   "id": "dc4ac466-a672-4b80-9c71-79493fba0fc5",
   "metadata": {},
   "outputs": [
    {
     "name": "stdout",
     "output_type": "stream",
     "text": [
      "\n",
      "Two-Sample Independent T-Test:\n",
      "T-statistic: 0.1777\n",
      "P-value: 0.8595\n"
     ]
    }
   ],
   "source": [
    "t_statistic, p_value = stats.ttest_ind(khv['mean'], jpt['mean'], equal_var=True)\n",
    "print(f\"\\nTwo-Sample Independent T-Test:\")\n",
    "print(f\"T-statistic: {t_statistic:.4f}\")\n",
    "print(f\"P-value: {p_value:.4f}\")"
   ]
  },
  {
   "cell_type": "markdown",
   "id": "72e823ee-6dd6-4536-936a-43602ac148ef",
   "metadata": {},
   "source": [
    "## T-test on Vietnamese (KHV) and Finland (FIN) populations"
   ]
  },
  {
   "cell_type": "code",
   "execution_count": 32,
   "id": "4260d55d-7e9d-4827-af84-f7eaec8d6fec",
   "metadata": {},
   "outputs": [
    {
     "name": "stdout",
     "output_type": "stream",
     "text": [
      "\n",
      "Two-Sample Independent T-Test:\n",
      "T-statistic: -0.3998\n",
      "P-value: 0.6905\n"
     ]
    }
   ],
   "source": [
    "t_statistic, p_value = stats.ttest_ind(khv['mean'], fin['mean'], equal_var=True)\n",
    "print(f\"\\nTwo-Sample Independent T-Test:\")\n",
    "print(f\"T-statistic: {t_statistic:.4f}\")\n",
    "print(f\"P-value: {p_value:.4f}\")"
   ]
  },
  {
   "cell_type": "markdown",
   "id": "30af4086-81ce-48b9-b159-f64dff339e7a",
   "metadata": {},
   "source": [
    "## T-test on Vietnamese (KHV) and African Ancestry in SW USA (ASW) populations"
   ]
  },
  {
   "cell_type": "code",
   "execution_count": 33,
   "id": "68b6884d-62fc-4522-b59e-ef40afc79f43",
   "metadata": {},
   "outputs": [
    {
     "name": "stdout",
     "output_type": "stream",
     "text": [
      "\n",
      "Two-Sample Independent T-Test:\n",
      "T-statistic: -1.3211\n",
      "P-value: 0.1908\n"
     ]
    }
   ],
   "source": [
    "t_statistic, p_value = stats.ttest_ind(khv['mean'], asw['mean'], equal_var=True)\n",
    "print(f\"\\nTwo-Sample Independent T-Test:\")\n",
    "print(f\"T-statistic: {t_statistic:.4f}\")\n",
    "print(f\"P-value: {p_value:.4f}\")"
   ]
  },
  {
   "cell_type": "code",
   "execution_count": null,
   "id": "213166b9-1ddc-4648-b82c-afc46992b467",
   "metadata": {},
   "outputs": [],
   "source": []
  }
 ],
 "metadata": {
  "kernelspec": {
   "display_name": "Python [conda env:insightgen]",
   "language": "python",
   "name": "conda-env-insightgen-py"
  },
  "language_info": {
   "codemirror_mode": {
    "name": "ipython",
    "version": 3
   },
   "file_extension": ".py",
   "mimetype": "text/x-python",
   "name": "python",
   "nbconvert_exporter": "python",
   "pygments_lexer": "ipython3",
   "version": "3.13.3"
  }
 },
 "nbformat": 4,
 "nbformat_minor": 5
}
