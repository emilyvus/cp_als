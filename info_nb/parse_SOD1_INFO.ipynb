{
 "cells": [
  {
   "cell_type": "code",
   "execution_count": 1,
   "id": "42dcab6a-c565-4d6c-ba03-9b66860ca956",
   "metadata": {},
   "outputs": [],
   "source": [
    "import pandas as pd"
   ]
  },
  {
   "cell_type": "code",
   "execution_count": 17,
   "id": "db1eebc6-12c7-461f-bd06-7f6983fd76d2",
   "metadata": {},
   "outputs": [],
   "source": [
    "infile = \"../vn_data/count_output/per_gene/SOD1.chr21.csv\""
   ]
  },
  {
   "cell_type": "code",
   "execution_count": 18,
   "id": "7a38d3bc-8daf-4d5f-a496-56500ec3343b",
   "metadata": {},
   "outputs": [
    {
     "data": {
      "text/plain": [
       "'../vn_data/count_output/per_gene/SOD1.chr21.csv'"
      ]
     },
     "execution_count": 18,
     "metadata": {},
     "output_type": "execute_result"
    }
   ],
   "source": [
    "infile"
   ]
  },
  {
   "cell_type": "code",
   "execution_count": 19,
   "id": "e007267c-0e15-4535-95d7-e41bf9c84c41",
   "metadata": {},
   "outputs": [],
   "source": [
    "df = pd.read_csv(infile)"
   ]
  },
  {
   "cell_type": "code",
   "execution_count": 21,
   "id": "177f3dad-034e-4e74-80aa-2809fbccfd01",
   "metadata": {},
   "outputs": [
    {
     "data": {
      "text/plain": [
       "(38, 113)"
      ]
     },
     "execution_count": 21,
     "metadata": {},
     "output_type": "execute_result"
    }
   ],
   "source": [
    "df.shape"
   ]
  },
  {
   "cell_type": "code",
   "execution_count": 20,
   "id": "4f4f938c-f537-485a-8ebc-f4e5669300ad",
   "metadata": {},
   "outputs": [
    {
     "data": {
      "text/html": [
       "<div>\n",
       "<style scoped>\n",
       "    .dataframe tbody tr th:only-of-type {\n",
       "        vertical-align: middle;\n",
       "    }\n",
       "\n",
       "    .dataframe tbody tr th {\n",
       "        vertical-align: top;\n",
       "    }\n",
       "\n",
       "    .dataframe thead th {\n",
       "        text-align: right;\n",
       "    }\n",
       "</style>\n",
       "<table border=\"1\" class=\"dataframe\">\n",
       "  <thead>\n",
       "    <tr style=\"text-align: right;\">\n",
       "      <th></th>\n",
       "      <th>#CHROM</th>\n",
       "      <th>POS</th>\n",
       "      <th>ID</th>\n",
       "      <th>REF</th>\n",
       "      <th>ALT</th>\n",
       "      <th>QUAL</th>\n",
       "      <th>FILTER</th>\n",
       "      <th>INFO</th>\n",
       "      <th>FORMAT</th>\n",
       "      <th>HG01595</th>\n",
       "      <th>...</th>\n",
       "      <th>HG02142</th>\n",
       "      <th>HG02512</th>\n",
       "      <th>HG02513</th>\n",
       "      <th>HG02521</th>\n",
       "      <th>HG02522</th>\n",
       "      <th>c00</th>\n",
       "      <th>c10</th>\n",
       "      <th>c01</th>\n",
       "      <th>c11</th>\n",
       "      <th>c1s</th>\n",
       "    </tr>\n",
       "  </thead>\n",
       "  <tbody>\n",
       "    <tr>\n",
       "      <th>0</th>\n",
       "      <td>21</td>\n",
       "      <td>31660364</td>\n",
       "      <td>.</td>\n",
       "      <td>C</td>\n",
       "      <td>A</td>\n",
       "      <td>.</td>\n",
       "      <td>PASS</td>\n",
       "      <td>AC=1;AN=5096;DP=16003;AF=0;EAS_AF=0;EUR_AF=0;A...</td>\n",
       "      <td>GT</td>\n",
       "      <td>0|0</td>\n",
       "      <td>...</td>\n",
       "      <td>0|0</td>\n",
       "      <td>0|0</td>\n",
       "      <td>0|0</td>\n",
       "      <td>0|0</td>\n",
       "      <td>0|0</td>\n",
       "      <td>98</td>\n",
       "      <td>0</td>\n",
       "      <td>1</td>\n",
       "      <td>0</td>\n",
       "      <td>1</td>\n",
       "    </tr>\n",
       "    <tr>\n",
       "      <th>1</th>\n",
       "      <td>21</td>\n",
       "      <td>31660429</td>\n",
       "      <td>.</td>\n",
       "      <td>A</td>\n",
       "      <td>C</td>\n",
       "      <td>.</td>\n",
       "      <td>PASS</td>\n",
       "      <td>AC=4;AN=5096;DP=18626;AF=0;EAS_AF=0;EUR_AF=0;A...</td>\n",
       "      <td>GT</td>\n",
       "      <td>0|0</td>\n",
       "      <td>...</td>\n",
       "      <td>0|0</td>\n",
       "      <td>0|0</td>\n",
       "      <td>0|0</td>\n",
       "      <td>0|0</td>\n",
       "      <td>0|0</td>\n",
       "      <td>98</td>\n",
       "      <td>1</td>\n",
       "      <td>0</td>\n",
       "      <td>0</td>\n",
       "      <td>1</td>\n",
       "    </tr>\n",
       "    <tr>\n",
       "      <th>2</th>\n",
       "      <td>21</td>\n",
       "      <td>31660675</td>\n",
       "      <td>.</td>\n",
       "      <td>C</td>\n",
       "      <td>A</td>\n",
       "      <td>.</td>\n",
       "      <td>PASS</td>\n",
       "      <td>AC=503;AN=5096;DP=21130;AF=0.1;EAS_AF=0;EUR_AF...</td>\n",
       "      <td>GT</td>\n",
       "      <td>0|0</td>\n",
       "      <td>...</td>\n",
       "      <td>0|0</td>\n",
       "      <td>0|0</td>\n",
       "      <td>0|0</td>\n",
       "      <td>0|0</td>\n",
       "      <td>0|0</td>\n",
       "      <td>97</td>\n",
       "      <td>0</td>\n",
       "      <td>2</td>\n",
       "      <td>0</td>\n",
       "      <td>2</td>\n",
       "    </tr>\n",
       "    <tr>\n",
       "      <th>3</th>\n",
       "      <td>21</td>\n",
       "      <td>31660688</td>\n",
       "      <td>.</td>\n",
       "      <td>C</td>\n",
       "      <td>G</td>\n",
       "      <td>.</td>\n",
       "      <td>PASS</td>\n",
       "      <td>AC=1159;AN=5096;DP=21437;AF=0.23;EAS_AF=0.52;E...</td>\n",
       "      <td>GT</td>\n",
       "      <td>1|1</td>\n",
       "      <td>...</td>\n",
       "      <td>1|1</td>\n",
       "      <td>0|1</td>\n",
       "      <td>1|1</td>\n",
       "      <td>0|1</td>\n",
       "      <td>0|0</td>\n",
       "      <td>17</td>\n",
       "      <td>25</td>\n",
       "      <td>29</td>\n",
       "      <td>28</td>\n",
       "      <td>110</td>\n",
       "    </tr>\n",
       "    <tr>\n",
       "      <th>4</th>\n",
       "      <td>21</td>\n",
       "      <td>31660694</td>\n",
       "      <td>.</td>\n",
       "      <td>C</td>\n",
       "      <td>T</td>\n",
       "      <td>.</td>\n",
       "      <td>PASS</td>\n",
       "      <td>AC=1;AN=5096;DP=21630;AF=0;EAS_AF=0;EUR_AF=0;A...</td>\n",
       "      <td>GT</td>\n",
       "      <td>0|0</td>\n",
       "      <td>...</td>\n",
       "      <td>0|0</td>\n",
       "      <td>0|0</td>\n",
       "      <td>0|0</td>\n",
       "      <td>0|0</td>\n",
       "      <td>0|0</td>\n",
       "      <td>98</td>\n",
       "      <td>1</td>\n",
       "      <td>0</td>\n",
       "      <td>0</td>\n",
       "      <td>1</td>\n",
       "    </tr>\n",
       "  </tbody>\n",
       "</table>\n",
       "<p>5 rows × 113 columns</p>\n",
       "</div>"
      ],
      "text/plain": [
       "   #CHROM       POS ID REF ALT QUAL FILTER  \\\n",
       "0      21  31660364  .   C   A    .   PASS   \n",
       "1      21  31660429  .   A   C    .   PASS   \n",
       "2      21  31660675  .   C   A    .   PASS   \n",
       "3      21  31660688  .   C   G    .   PASS   \n",
       "4      21  31660694  .   C   T    .   PASS   \n",
       "\n",
       "                                                INFO FORMAT HG01595  ...  \\\n",
       "0  AC=1;AN=5096;DP=16003;AF=0;EAS_AF=0;EUR_AF=0;A...     GT     0|0  ...   \n",
       "1  AC=4;AN=5096;DP=18626;AF=0;EAS_AF=0;EUR_AF=0;A...     GT     0|0  ...   \n",
       "2  AC=503;AN=5096;DP=21130;AF=0.1;EAS_AF=0;EUR_AF...     GT     0|0  ...   \n",
       "3  AC=1159;AN=5096;DP=21437;AF=0.23;EAS_AF=0.52;E...     GT     1|1  ...   \n",
       "4  AC=1;AN=5096;DP=21630;AF=0;EAS_AF=0;EUR_AF=0;A...     GT     0|0  ...   \n",
       "\n",
       "  HG02142 HG02512 HG02513 HG02521 HG02522 c00 c10 c01 c11  c1s  \n",
       "0     0|0     0|0     0|0     0|0     0|0  98   0   1   0    1  \n",
       "1     0|0     0|0     0|0     0|0     0|0  98   1   0   0    1  \n",
       "2     0|0     0|0     0|0     0|0     0|0  97   0   2   0    2  \n",
       "3     1|1     0|1     1|1     0|1     0|0  17  25  29  28  110  \n",
       "4     0|0     0|0     0|0     0|0     0|0  98   1   0   0    1  \n",
       "\n",
       "[5 rows x 113 columns]"
      ]
     },
     "execution_count": 20,
     "metadata": {},
     "output_type": "execute_result"
    }
   ],
   "source": [
    "df.head()"
   ]
  },
  {
   "cell_type": "markdown",
   "id": "ad4760b9-b537-4d90-907f-3d0bed5ce9f3",
   "metadata": {},
   "source": [
    "# Check several rows, and INFO column"
   ]
  },
  {
   "cell_type": "code",
   "execution_count": 52,
   "id": "ddc2b6dc-cb57-4474-992b-d51a5ed9f6f7",
   "metadata": {},
   "outputs": [
    {
     "data": {
      "text/plain": [
       "0    AC=1;AN=5096;DP=16003;AF=0;EAS_AF=0;EUR_AF=0;A...\n",
       "1    AC=4;AN=5096;DP=18626;AF=0;EAS_AF=0;EUR_AF=0;A...\n",
       "2    AC=503;AN=5096;DP=21130;AF=0.1;EAS_AF=0;EUR_AF...\n",
       "Name: INFO, dtype: object"
      ]
     },
     "execution_count": 52,
     "metadata": {},
     "output_type": "execute_result"
    }
   ],
   "source": [
    "df.loc[0:2, \"INFO\"]"
   ]
  },
  {
   "cell_type": "markdown",
   "id": "cf684ab7-ebc7-4394-b122-05d31fbddd11",
   "metadata": {},
   "source": [
    "# Filter a sub dataframe to make it easier for debugging"
   ]
  },
  {
   "cell_type": "code",
   "execution_count": 53,
   "id": "fc509b6b-e780-466f-8bac-13f9892f31f7",
   "metadata": {},
   "outputs": [],
   "source": [
    "df = df.loc[0:5, [\"POS\", \"REF\", \"ALT\", \"INFO\"]]"
   ]
  },
  {
   "cell_type": "code",
   "execution_count": 54,
   "id": "696df105-1638-4e3d-b4f5-505e9637d5df",
   "metadata": {},
   "outputs": [
    {
     "data": {
      "text/html": [
       "<div>\n",
       "<style scoped>\n",
       "    .dataframe tbody tr th:only-of-type {\n",
       "        vertical-align: middle;\n",
       "    }\n",
       "\n",
       "    .dataframe tbody tr th {\n",
       "        vertical-align: top;\n",
       "    }\n",
       "\n",
       "    .dataframe thead th {\n",
       "        text-align: right;\n",
       "    }\n",
       "</style>\n",
       "<table border=\"1\" class=\"dataframe\">\n",
       "  <thead>\n",
       "    <tr style=\"text-align: right;\">\n",
       "      <th></th>\n",
       "      <th>POS</th>\n",
       "      <th>REF</th>\n",
       "      <th>ALT</th>\n",
       "      <th>INFO</th>\n",
       "    </tr>\n",
       "  </thead>\n",
       "  <tbody>\n",
       "    <tr>\n",
       "      <th>0</th>\n",
       "      <td>31660364</td>\n",
       "      <td>C</td>\n",
       "      <td>A</td>\n",
       "      <td>AC=1;AN=5096;DP=16003;AF=0;EAS_AF=0;EUR_AF=0;A...</td>\n",
       "    </tr>\n",
       "    <tr>\n",
       "      <th>1</th>\n",
       "      <td>31660429</td>\n",
       "      <td>A</td>\n",
       "      <td>C</td>\n",
       "      <td>AC=4;AN=5096;DP=18626;AF=0;EAS_AF=0;EUR_AF=0;A...</td>\n",
       "    </tr>\n",
       "    <tr>\n",
       "      <th>2</th>\n",
       "      <td>31660675</td>\n",
       "      <td>C</td>\n",
       "      <td>A</td>\n",
       "      <td>AC=503;AN=5096;DP=21130;AF=0.1;EAS_AF=0;EUR_AF...</td>\n",
       "    </tr>\n",
       "    <tr>\n",
       "      <th>3</th>\n",
       "      <td>31660688</td>\n",
       "      <td>C</td>\n",
       "      <td>G</td>\n",
       "      <td>AC=1159;AN=5096;DP=21437;AF=0.23;EAS_AF=0.52;E...</td>\n",
       "    </tr>\n",
       "    <tr>\n",
       "      <th>4</th>\n",
       "      <td>31660694</td>\n",
       "      <td>C</td>\n",
       "      <td>T</td>\n",
       "      <td>AC=1;AN=5096;DP=21630;AF=0;EAS_AF=0;EUR_AF=0;A...</td>\n",
       "    </tr>\n",
       "  </tbody>\n",
       "</table>\n",
       "</div>"
      ],
      "text/plain": [
       "        POS REF ALT                                               INFO\n",
       "0  31660364   C   A  AC=1;AN=5096;DP=16003;AF=0;EAS_AF=0;EUR_AF=0;A...\n",
       "1  31660429   A   C  AC=4;AN=5096;DP=18626;AF=0;EAS_AF=0;EUR_AF=0;A...\n",
       "2  31660675   C   A  AC=503;AN=5096;DP=21130;AF=0.1;EAS_AF=0;EUR_AF...\n",
       "3  31660688   C   G  AC=1159;AN=5096;DP=21437;AF=0.23;EAS_AF=0.52;E...\n",
       "4  31660694   C   T  AC=1;AN=5096;DP=21630;AF=0;EAS_AF=0;EUR_AF=0;A..."
      ]
     },
     "execution_count": 54,
     "metadata": {},
     "output_type": "execute_result"
    }
   ],
   "source": [
    "df.head()"
   ]
  },
  {
   "cell_type": "code",
   "execution_count": 55,
   "id": "e1563ecc-0dfe-4a6f-9e02-f52b7bc53f6e",
   "metadata": {},
   "outputs": [],
   "source": [
    "# Step 1: Split the INFO field into a dictionary\n",
    "info_dicts = df['INFO'].str.split(';').apply(\n",
    "    lambda items: {k: v for k, v in (item.split('=') for item in items)}\n",
    ")"
   ]
  },
  {
   "cell_type": "code",
   "execution_count": 56,
   "id": "d4e3e8dc-f8cc-4fe9-b73b-e59d90d49645",
   "metadata": {},
   "outputs": [
    {
     "data": {
      "text/plain": [
       "0    {'AC': '1', 'AN': '5096', 'DP': '16003', 'AF':...\n",
       "1    {'AC': '4', 'AN': '5096', 'DP': '18626', 'AF':...\n",
       "2    {'AC': '503', 'AN': '5096', 'DP': '21130', 'AF...\n",
       "3    {'AC': '1159', 'AN': '5096', 'DP': '21437', 'A...\n",
       "4    {'AC': '1', 'AN': '5096', 'DP': '21630', 'AF':...\n",
       "5    {'AC': '72', 'AN': '5096', 'DP': '18358', 'AF'...\n",
       "Name: INFO, dtype: object"
      ]
     },
     "execution_count": 56,
     "metadata": {},
     "output_type": "execute_result"
    }
   ],
   "source": [
    "info_dicts"
   ]
  },
  {
   "cell_type": "code",
   "execution_count": 57,
   "id": "47ccc739-ee3e-4ddf-848b-2c08662b4f9e",
   "metadata": {},
   "outputs": [],
   "source": [
    "# Step 2: Convert dictionary list to a DataFrame\n",
    "info_df = pd.DataFrame(info_dicts.tolist())"
   ]
  },
  {
   "cell_type": "code",
   "execution_count": 58,
   "id": "a3c468e5-3812-48d7-8b78-a32aa7163878",
   "metadata": {},
   "outputs": [
    {
     "data": {
      "text/plain": [
       "(6, 11)"
      ]
     },
     "execution_count": 58,
     "metadata": {},
     "output_type": "execute_result"
    }
   ],
   "source": [
    "info_df.shape"
   ]
  },
  {
   "cell_type": "code",
   "execution_count": 59,
   "id": "ab40551c-509b-43c8-8e3a-386eb298d5d3",
   "metadata": {},
   "outputs": [
    {
     "data": {
      "text/html": [
       "<div>\n",
       "<style scoped>\n",
       "    .dataframe tbody tr th:only-of-type {\n",
       "        vertical-align: middle;\n",
       "    }\n",
       "\n",
       "    .dataframe tbody tr th {\n",
       "        vertical-align: top;\n",
       "    }\n",
       "\n",
       "    .dataframe thead th {\n",
       "        text-align: right;\n",
       "    }\n",
       "</style>\n",
       "<table border=\"1\" class=\"dataframe\">\n",
       "  <thead>\n",
       "    <tr style=\"text-align: right;\">\n",
       "      <th></th>\n",
       "      <th>AC</th>\n",
       "      <th>AN</th>\n",
       "      <th>DP</th>\n",
       "      <th>AF</th>\n",
       "      <th>EAS_AF</th>\n",
       "      <th>EUR_AF</th>\n",
       "      <th>AFR_AF</th>\n",
       "      <th>AMR_AF</th>\n",
       "      <th>SAS_AF</th>\n",
       "      <th>VT</th>\n",
       "      <th>NS</th>\n",
       "    </tr>\n",
       "  </thead>\n",
       "  <tbody>\n",
       "    <tr>\n",
       "      <th>0</th>\n",
       "      <td>1</td>\n",
       "      <td>5096</td>\n",
       "      <td>16003</td>\n",
       "      <td>0</td>\n",
       "      <td>0</td>\n",
       "      <td>0</td>\n",
       "      <td>0</td>\n",
       "      <td>0</td>\n",
       "      <td>0</td>\n",
       "      <td>SNP</td>\n",
       "      <td>2548</td>\n",
       "    </tr>\n",
       "    <tr>\n",
       "      <th>1</th>\n",
       "      <td>4</td>\n",
       "      <td>5096</td>\n",
       "      <td>18626</td>\n",
       "      <td>0</td>\n",
       "      <td>0</td>\n",
       "      <td>0</td>\n",
       "      <td>0</td>\n",
       "      <td>0</td>\n",
       "      <td>0</td>\n",
       "      <td>SNP</td>\n",
       "      <td>2548</td>\n",
       "    </tr>\n",
       "    <tr>\n",
       "      <th>2</th>\n",
       "      <td>503</td>\n",
       "      <td>5096</td>\n",
       "      <td>21130</td>\n",
       "      <td>0.1</td>\n",
       "      <td>0</td>\n",
       "      <td>0.06</td>\n",
       "      <td>0.31</td>\n",
       "      <td>0.03</td>\n",
       "      <td>0.01</td>\n",
       "      <td>SNP</td>\n",
       "      <td>2548</td>\n",
       "    </tr>\n",
       "    <tr>\n",
       "      <th>3</th>\n",
       "      <td>1159</td>\n",
       "      <td>5096</td>\n",
       "      <td>21437</td>\n",
       "      <td>0.23</td>\n",
       "      <td>0.52</td>\n",
       "      <td>0.07</td>\n",
       "      <td>0.12</td>\n",
       "      <td>0.22</td>\n",
       "      <td>0.23</td>\n",
       "      <td>SNP</td>\n",
       "      <td>2548</td>\n",
       "    </tr>\n",
       "    <tr>\n",
       "      <th>4</th>\n",
       "      <td>1</td>\n",
       "      <td>5096</td>\n",
       "      <td>21630</td>\n",
       "      <td>0</td>\n",
       "      <td>0</td>\n",
       "      <td>0</td>\n",
       "      <td>0</td>\n",
       "      <td>0</td>\n",
       "      <td>0</td>\n",
       "      <td>SNP</td>\n",
       "      <td>2548</td>\n",
       "    </tr>\n",
       "  </tbody>\n",
       "</table>\n",
       "</div>"
      ],
      "text/plain": [
       "     AC    AN     DP    AF EAS_AF EUR_AF AFR_AF AMR_AF SAS_AF   VT    NS\n",
       "0     1  5096  16003     0      0      0      0      0      0  SNP  2548\n",
       "1     4  5096  18626     0      0      0      0      0      0  SNP  2548\n",
       "2   503  5096  21130   0.1      0   0.06   0.31   0.03   0.01  SNP  2548\n",
       "3  1159  5096  21437  0.23   0.52   0.07   0.12   0.22   0.23  SNP  2548\n",
       "4     1  5096  21630     0      0      0      0      0      0  SNP  2548"
      ]
     },
     "execution_count": 59,
     "metadata": {},
     "output_type": "execute_result"
    }
   ],
   "source": [
    "info_df.head()"
   ]
  },
  {
   "cell_type": "code",
   "execution_count": 60,
   "id": "c4e7efee-19a8-4c2e-ae68-4d8dbfcf6708",
   "metadata": {},
   "outputs": [
    {
     "data": {
      "text/plain": [
       "(6, 4)"
      ]
     },
     "execution_count": 60,
     "metadata": {},
     "output_type": "execute_result"
    }
   ],
   "source": [
    "df.shape"
   ]
  },
  {
   "cell_type": "code",
   "execution_count": 61,
   "id": "69d6ce81-bc01-416c-a133-073a998430d3",
   "metadata": {},
   "outputs": [],
   "source": [
    "# Step 3: Merge with original DataFrame\n",
    "df_final = pd.concat([df, info_df], axis=1)"
   ]
  },
  {
   "cell_type": "code",
   "execution_count": 62,
   "id": "4b30abd9-622a-4f29-bd36-8c6c315cf6f5",
   "metadata": {},
   "outputs": [
    {
     "data": {
      "text/plain": [
       "(6, 15)"
      ]
     },
     "execution_count": 62,
     "metadata": {},
     "output_type": "execute_result"
    }
   ],
   "source": [
    "df_final.shape"
   ]
  },
  {
   "cell_type": "code",
   "execution_count": 63,
   "id": "a7d5f304-803f-4f71-908b-c8bd51635849",
   "metadata": {},
   "outputs": [
    {
     "data": {
      "text/html": [
       "<div>\n",
       "<style scoped>\n",
       "    .dataframe tbody tr th:only-of-type {\n",
       "        vertical-align: middle;\n",
       "    }\n",
       "\n",
       "    .dataframe tbody tr th {\n",
       "        vertical-align: top;\n",
       "    }\n",
       "\n",
       "    .dataframe thead th {\n",
       "        text-align: right;\n",
       "    }\n",
       "</style>\n",
       "<table border=\"1\" class=\"dataframe\">\n",
       "  <thead>\n",
       "    <tr style=\"text-align: right;\">\n",
       "      <th></th>\n",
       "      <th>POS</th>\n",
       "      <th>REF</th>\n",
       "      <th>ALT</th>\n",
       "      <th>INFO</th>\n",
       "      <th>AC</th>\n",
       "      <th>AN</th>\n",
       "      <th>DP</th>\n",
       "      <th>AF</th>\n",
       "      <th>EAS_AF</th>\n",
       "      <th>EUR_AF</th>\n",
       "      <th>AFR_AF</th>\n",
       "      <th>AMR_AF</th>\n",
       "      <th>SAS_AF</th>\n",
       "      <th>VT</th>\n",
       "      <th>NS</th>\n",
       "    </tr>\n",
       "  </thead>\n",
       "  <tbody>\n",
       "    <tr>\n",
       "      <th>0</th>\n",
       "      <td>31660364</td>\n",
       "      <td>C</td>\n",
       "      <td>A</td>\n",
       "      <td>AC=1;AN=5096;DP=16003;AF=0;EAS_AF=0;EUR_AF=0;A...</td>\n",
       "      <td>1</td>\n",
       "      <td>5096</td>\n",
       "      <td>16003</td>\n",
       "      <td>0</td>\n",
       "      <td>0</td>\n",
       "      <td>0</td>\n",
       "      <td>0</td>\n",
       "      <td>0</td>\n",
       "      <td>0</td>\n",
       "      <td>SNP</td>\n",
       "      <td>2548</td>\n",
       "    </tr>\n",
       "    <tr>\n",
       "      <th>1</th>\n",
       "      <td>31660429</td>\n",
       "      <td>A</td>\n",
       "      <td>C</td>\n",
       "      <td>AC=4;AN=5096;DP=18626;AF=0;EAS_AF=0;EUR_AF=0;A...</td>\n",
       "      <td>4</td>\n",
       "      <td>5096</td>\n",
       "      <td>18626</td>\n",
       "      <td>0</td>\n",
       "      <td>0</td>\n",
       "      <td>0</td>\n",
       "      <td>0</td>\n",
       "      <td>0</td>\n",
       "      <td>0</td>\n",
       "      <td>SNP</td>\n",
       "      <td>2548</td>\n",
       "    </tr>\n",
       "    <tr>\n",
       "      <th>2</th>\n",
       "      <td>31660675</td>\n",
       "      <td>C</td>\n",
       "      <td>A</td>\n",
       "      <td>AC=503;AN=5096;DP=21130;AF=0.1;EAS_AF=0;EUR_AF...</td>\n",
       "      <td>503</td>\n",
       "      <td>5096</td>\n",
       "      <td>21130</td>\n",
       "      <td>0.1</td>\n",
       "      <td>0</td>\n",
       "      <td>0.06</td>\n",
       "      <td>0.31</td>\n",
       "      <td>0.03</td>\n",
       "      <td>0.01</td>\n",
       "      <td>SNP</td>\n",
       "      <td>2548</td>\n",
       "    </tr>\n",
       "    <tr>\n",
       "      <th>3</th>\n",
       "      <td>31660688</td>\n",
       "      <td>C</td>\n",
       "      <td>G</td>\n",
       "      <td>AC=1159;AN=5096;DP=21437;AF=0.23;EAS_AF=0.52;E...</td>\n",
       "      <td>1159</td>\n",
       "      <td>5096</td>\n",
       "      <td>21437</td>\n",
       "      <td>0.23</td>\n",
       "      <td>0.52</td>\n",
       "      <td>0.07</td>\n",
       "      <td>0.12</td>\n",
       "      <td>0.22</td>\n",
       "      <td>0.23</td>\n",
       "      <td>SNP</td>\n",
       "      <td>2548</td>\n",
       "    </tr>\n",
       "    <tr>\n",
       "      <th>4</th>\n",
       "      <td>31660694</td>\n",
       "      <td>C</td>\n",
       "      <td>T</td>\n",
       "      <td>AC=1;AN=5096;DP=21630;AF=0;EAS_AF=0;EUR_AF=0;A...</td>\n",
       "      <td>1</td>\n",
       "      <td>5096</td>\n",
       "      <td>21630</td>\n",
       "      <td>0</td>\n",
       "      <td>0</td>\n",
       "      <td>0</td>\n",
       "      <td>0</td>\n",
       "      <td>0</td>\n",
       "      <td>0</td>\n",
       "      <td>SNP</td>\n",
       "      <td>2548</td>\n",
       "    </tr>\n",
       "  </tbody>\n",
       "</table>\n",
       "</div>"
      ],
      "text/plain": [
       "        POS REF ALT                                               INFO    AC  \\\n",
       "0  31660364   C   A  AC=1;AN=5096;DP=16003;AF=0;EAS_AF=0;EUR_AF=0;A...     1   \n",
       "1  31660429   A   C  AC=4;AN=5096;DP=18626;AF=0;EAS_AF=0;EUR_AF=0;A...     4   \n",
       "2  31660675   C   A  AC=503;AN=5096;DP=21130;AF=0.1;EAS_AF=0;EUR_AF...   503   \n",
       "3  31660688   C   G  AC=1159;AN=5096;DP=21437;AF=0.23;EAS_AF=0.52;E...  1159   \n",
       "4  31660694   C   T  AC=1;AN=5096;DP=21630;AF=0;EAS_AF=0;EUR_AF=0;A...     1   \n",
       "\n",
       "     AN     DP    AF EAS_AF EUR_AF AFR_AF AMR_AF SAS_AF   VT    NS  \n",
       "0  5096  16003     0      0      0      0      0      0  SNP  2548  \n",
       "1  5096  18626     0      0      0      0      0      0  SNP  2548  \n",
       "2  5096  21130   0.1      0   0.06   0.31   0.03   0.01  SNP  2548  \n",
       "3  5096  21437  0.23   0.52   0.07   0.12   0.22   0.23  SNP  2548  \n",
       "4  5096  21630     0      0      0      0      0      0  SNP  2548  "
      ]
     },
     "execution_count": 63,
     "metadata": {},
     "output_type": "execute_result"
    }
   ],
   "source": [
    "df_final.head()"
   ]
  },
  {
   "cell_type": "code",
   "execution_count": 64,
   "id": "c651a90c-c755-4961-9bb3-b9d56cbd589e",
   "metadata": {
    "scrolled": true
   },
   "outputs": [
    {
     "name": "stderr",
     "output_type": "stream",
     "text": [
      "/var/folders/mk/qv7kjtr17ls_fqfn64hdptt00000gn/T/ipykernel_52573/905802651.py:3: FutureWarning: errors='ignore' is deprecated and will raise in a future version. Use to_numeric without passing `errors` and catch exceptions explicitly instead\n",
      "  df_final[col] = pd.to_numeric(df_final[col], errors='ignore')\n"
     ]
    }
   ],
   "source": [
    "# Step 4: Optionally convert numeric fields\n",
    "for col in df_final.columns:\n",
    "    df_final[col] = pd.to_numeric(df_final[col], errors='ignore')"
   ]
  },
  {
   "cell_type": "code",
   "execution_count": 65,
   "id": "3ef1d5b0-7d35-4377-8f35-586d6e369c5e",
   "metadata": {},
   "outputs": [
    {
     "name": "stdout",
     "output_type": "stream",
     "text": [
      "<class 'pandas.core.frame.DataFrame'>\n",
      "RangeIndex: 6 entries, 0 to 5\n",
      "Data columns (total 15 columns):\n",
      " #   Column  Non-Null Count  Dtype  \n",
      "---  ------  --------------  -----  \n",
      " 0   POS     6 non-null      int64  \n",
      " 1   REF     6 non-null      object \n",
      " 2   ALT     6 non-null      object \n",
      " 3   INFO    6 non-null      object \n",
      " 4   AC      6 non-null      int64  \n",
      " 5   AN      6 non-null      int64  \n",
      " 6   DP      6 non-null      int64  \n",
      " 7   AF      6 non-null      float64\n",
      " 8   EAS_AF  6 non-null      float64\n",
      " 9   EUR_AF  6 non-null      float64\n",
      " 10  AFR_AF  6 non-null      float64\n",
      " 11  AMR_AF  6 non-null      float64\n",
      " 12  SAS_AF  6 non-null      float64\n",
      " 13  VT      6 non-null      object \n",
      " 14  NS      6 non-null      int64  \n",
      "dtypes: float64(6), int64(5), object(4)\n",
      "memory usage: 852.0+ bytes\n"
     ]
    }
   ],
   "source": [
    "df_final.info()"
   ]
  },
  {
   "cell_type": "code",
   "execution_count": 66,
   "id": "62d7d4a5-de16-4120-812b-5048c03147dd",
   "metadata": {},
   "outputs": [
    {
     "data": {
      "text/html": [
       "<div>\n",
       "<style scoped>\n",
       "    .dataframe tbody tr th:only-of-type {\n",
       "        vertical-align: middle;\n",
       "    }\n",
       "\n",
       "    .dataframe tbody tr th {\n",
       "        vertical-align: top;\n",
       "    }\n",
       "\n",
       "    .dataframe thead th {\n",
       "        text-align: right;\n",
       "    }\n",
       "</style>\n",
       "<table border=\"1\" class=\"dataframe\">\n",
       "  <thead>\n",
       "    <tr style=\"text-align: right;\">\n",
       "      <th></th>\n",
       "      <th>POS</th>\n",
       "      <th>REF</th>\n",
       "      <th>ALT</th>\n",
       "      <th>INFO</th>\n",
       "      <th>AC</th>\n",
       "      <th>AN</th>\n",
       "      <th>DP</th>\n",
       "      <th>AF</th>\n",
       "      <th>EAS_AF</th>\n",
       "      <th>EUR_AF</th>\n",
       "      <th>AFR_AF</th>\n",
       "      <th>AMR_AF</th>\n",
       "      <th>SAS_AF</th>\n",
       "      <th>VT</th>\n",
       "      <th>NS</th>\n",
       "    </tr>\n",
       "  </thead>\n",
       "  <tbody>\n",
       "    <tr>\n",
       "      <th>0</th>\n",
       "      <td>31660364</td>\n",
       "      <td>C</td>\n",
       "      <td>A</td>\n",
       "      <td>AC=1;AN=5096;DP=16003;AF=0;EAS_AF=0;EUR_AF=0;A...</td>\n",
       "      <td>1</td>\n",
       "      <td>5096</td>\n",
       "      <td>16003</td>\n",
       "      <td>0.00</td>\n",
       "      <td>0.00</td>\n",
       "      <td>0.00</td>\n",
       "      <td>0.00</td>\n",
       "      <td>0.00</td>\n",
       "      <td>0.00</td>\n",
       "      <td>SNP</td>\n",
       "      <td>2548</td>\n",
       "    </tr>\n",
       "    <tr>\n",
       "      <th>1</th>\n",
       "      <td>31660429</td>\n",
       "      <td>A</td>\n",
       "      <td>C</td>\n",
       "      <td>AC=4;AN=5096;DP=18626;AF=0;EAS_AF=0;EUR_AF=0;A...</td>\n",
       "      <td>4</td>\n",
       "      <td>5096</td>\n",
       "      <td>18626</td>\n",
       "      <td>0.00</td>\n",
       "      <td>0.00</td>\n",
       "      <td>0.00</td>\n",
       "      <td>0.00</td>\n",
       "      <td>0.00</td>\n",
       "      <td>0.00</td>\n",
       "      <td>SNP</td>\n",
       "      <td>2548</td>\n",
       "    </tr>\n",
       "    <tr>\n",
       "      <th>2</th>\n",
       "      <td>31660675</td>\n",
       "      <td>C</td>\n",
       "      <td>A</td>\n",
       "      <td>AC=503;AN=5096;DP=21130;AF=0.1;EAS_AF=0;EUR_AF...</td>\n",
       "      <td>503</td>\n",
       "      <td>5096</td>\n",
       "      <td>21130</td>\n",
       "      <td>0.10</td>\n",
       "      <td>0.00</td>\n",
       "      <td>0.06</td>\n",
       "      <td>0.31</td>\n",
       "      <td>0.03</td>\n",
       "      <td>0.01</td>\n",
       "      <td>SNP</td>\n",
       "      <td>2548</td>\n",
       "    </tr>\n",
       "    <tr>\n",
       "      <th>3</th>\n",
       "      <td>31660688</td>\n",
       "      <td>C</td>\n",
       "      <td>G</td>\n",
       "      <td>AC=1159;AN=5096;DP=21437;AF=0.23;EAS_AF=0.52;E...</td>\n",
       "      <td>1159</td>\n",
       "      <td>5096</td>\n",
       "      <td>21437</td>\n",
       "      <td>0.23</td>\n",
       "      <td>0.52</td>\n",
       "      <td>0.07</td>\n",
       "      <td>0.12</td>\n",
       "      <td>0.22</td>\n",
       "      <td>0.23</td>\n",
       "      <td>SNP</td>\n",
       "      <td>2548</td>\n",
       "    </tr>\n",
       "    <tr>\n",
       "      <th>4</th>\n",
       "      <td>31660694</td>\n",
       "      <td>C</td>\n",
       "      <td>T</td>\n",
       "      <td>AC=1;AN=5096;DP=21630;AF=0;EAS_AF=0;EUR_AF=0;A...</td>\n",
       "      <td>1</td>\n",
       "      <td>5096</td>\n",
       "      <td>21630</td>\n",
       "      <td>0.00</td>\n",
       "      <td>0.00</td>\n",
       "      <td>0.00</td>\n",
       "      <td>0.00</td>\n",
       "      <td>0.00</td>\n",
       "      <td>0.00</td>\n",
       "      <td>SNP</td>\n",
       "      <td>2548</td>\n",
       "    </tr>\n",
       "    <tr>\n",
       "      <th>5</th>\n",
       "      <td>31661410</td>\n",
       "      <td>C</td>\n",
       "      <td>T</td>\n",
       "      <td>AC=72;AN=5096;DP=18358;AF=0.01;EAS_AF=0.05;EUR...</td>\n",
       "      <td>72</td>\n",
       "      <td>5096</td>\n",
       "      <td>18358</td>\n",
       "      <td>0.01</td>\n",
       "      <td>0.05</td>\n",
       "      <td>0.00</td>\n",
       "      <td>0.00</td>\n",
       "      <td>0.02</td>\n",
       "      <td>0.00</td>\n",
       "      <td>SNP</td>\n",
       "      <td>2548</td>\n",
       "    </tr>\n",
       "  </tbody>\n",
       "</table>\n",
       "</div>"
      ],
      "text/plain": [
       "        POS REF ALT                                               INFO    AC  \\\n",
       "0  31660364   C   A  AC=1;AN=5096;DP=16003;AF=0;EAS_AF=0;EUR_AF=0;A...     1   \n",
       "1  31660429   A   C  AC=4;AN=5096;DP=18626;AF=0;EAS_AF=0;EUR_AF=0;A...     4   \n",
       "2  31660675   C   A  AC=503;AN=5096;DP=21130;AF=0.1;EAS_AF=0;EUR_AF...   503   \n",
       "3  31660688   C   G  AC=1159;AN=5096;DP=21437;AF=0.23;EAS_AF=0.52;E...  1159   \n",
       "4  31660694   C   T  AC=1;AN=5096;DP=21630;AF=0;EAS_AF=0;EUR_AF=0;A...     1   \n",
       "5  31661410   C   T  AC=72;AN=5096;DP=18358;AF=0.01;EAS_AF=0.05;EUR...    72   \n",
       "\n",
       "     AN     DP    AF  EAS_AF  EUR_AF  AFR_AF  AMR_AF  SAS_AF   VT    NS  \n",
       "0  5096  16003  0.00    0.00    0.00    0.00    0.00    0.00  SNP  2548  \n",
       "1  5096  18626  0.00    0.00    0.00    0.00    0.00    0.00  SNP  2548  \n",
       "2  5096  21130  0.10    0.00    0.06    0.31    0.03    0.01  SNP  2548  \n",
       "3  5096  21437  0.23    0.52    0.07    0.12    0.22    0.23  SNP  2548  \n",
       "4  5096  21630  0.00    0.00    0.00    0.00    0.00    0.00  SNP  2548  \n",
       "5  5096  18358  0.01    0.05    0.00    0.00    0.02    0.00  SNP  2548  "
      ]
     },
     "execution_count": 66,
     "metadata": {},
     "output_type": "execute_result"
    }
   ],
   "source": [
    "# Show final DataFrame\n",
    "df_final"
   ]
  },
  {
   "cell_type": "code",
   "execution_count": null,
   "id": "24dd2803-271c-4cc8-bcd1-ffc27597470e",
   "metadata": {},
   "outputs": [],
   "source": []
  }
 ],
 "metadata": {
  "kernelspec": {
   "display_name": "Python [conda env:insightgen]",
   "language": "python",
   "name": "conda-env-insightgen-py"
  },
  "language_info": {
   "codemirror_mode": {
    "name": "ipython",
    "version": 3
   },
   "file_extension": ".py",
   "mimetype": "text/x-python",
   "name": "python",
   "nbconvert_exporter": "python",
   "pygments_lexer": "ipython3",
   "version": "3.13.3"
  }
 },
 "nbformat": 4,
 "nbformat_minor": 5
}
