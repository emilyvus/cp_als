{
 "cells": [
  {
   "cell_type": "code",
   "execution_count": 3,
   "id": "72332279-2281-4d43-81f4-0ba42577fef4",
   "metadata": {},
   "outputs": [],
   "source": [
    "import numpy as np\n",
    "import pandas as pd\n",
    "from sklearn.decomposition import PCA\n",
    "from sklearn.preprocessing import StandardScaler\n",
    "import matplotlib.pyplot as plt\n",
    "import random\n",
    "import pandas as pd\n",
    "import matplotlib.pyplot as plt\n",
    "from os.path import join\n",
    "from pathlib import Path"
   ]
  },
  {
   "cell_type": "code",
   "execution_count": 4,
   "id": "63140f84-7756-4e66-a2fd-4a771aa33ae2",
   "metadata": {},
   "outputs": [],
   "source": [
    "root_dir = join(Path.home(), \"cp_als/populations\")"
   ]
  },
  {
   "cell_type": "code",
   "execution_count": 5,
   "id": "c9b24407-ec01-4412-b2c2-d3c29bdbead8",
   "metadata": {},
   "outputs": [],
   "source": [
    "khv_infile = join(root_dir, \"output/KHV/all.csv\")\n",
    "gbr_infile = join(root_dir, \"output/GBR/all.csv\")\n"
   ]
  },
  {
   "cell_type": "code",
   "execution_count": null,
   "id": "d29a1448-f60d-4aea-bce6-cd9a1336255c",
   "metadata": {},
   "outputs": [],
   "source": [
    "khv_df = pd.read_csv(khv_infile)\n",
    "ghb_df = pd.read_csv(khv_infile)\n"
   ]
  }
 ],
 "metadata": {
  "kernelspec": {
   "display_name": "Python [conda env:insightgen]",
   "language": "python",
   "name": "conda-env-insightgen-py"
  },
  "language_info": {
   "codemirror_mode": {
    "name": "ipython",
    "version": 3
   },
   "file_extension": ".py",
   "mimetype": "text/x-python",
   "name": "python",
   "nbconvert_exporter": "python",
   "pygments_lexer": "ipython3",
   "version": "3.13.3"
  }
 },
 "nbformat": 4,
 "nbformat_minor": 5
}
